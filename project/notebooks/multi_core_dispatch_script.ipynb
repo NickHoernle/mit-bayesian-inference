{
 "cells": [
  {
   "cell_type": "code",
   "execution_count": 1,
   "metadata": {
    "collapsed": true
   },
   "outputs": [],
   "source": [
    "from multiprocessing import Pool\n",
    "import os\n",
    "import copy\n",
    "import numpy as np"
   ]
  },
  {
   "cell_type": "code",
   "execution_count": 2,
   "metadata": {
    "collapsed": false
   },
   "outputs": [
    {
     "data": {
      "text/plain": [
       "16"
      ]
     },
     "execution_count": 2,
     "metadata": {},
     "output_type": "execute_result"
    }
   ],
   "source": [
    "numprocs = os.environ.get('NUMPROCS', 16)\n",
    "# pool = Pool(numprocs)\n",
    "numprocs"
   ]
  },
  {
   "cell_type": "code",
   "execution_count": 6,
   "metadata": {
    "collapsed": false
   },
   "outputs": [
    {
     "data": {
      "text/plain": [
       "array([[ 2.30743564,  0.        , -0.        ],\n",
       "       [ 0.        ,  0.23680516, -0.        ],\n",
       "       [ 0.        ,  0.        , -0.07429716]])"
      ]
     },
     "execution_count": 6,
     "metadata": {},
     "output_type": "execute_result"
    }
   ],
   "source": [
    "D = 3\n",
    "np.eye(D)*np.random.normal(0,1,size=D)"
   ]
  },
  {
   "cell_type": "code",
   "execution_count": null,
   "metadata": {
    "collapsed": true
   },
   "outputs": [],
   "source": [
    "def generateTransitionMatrix(dim):\n",
    "    A = np.eye(dim) - np.random.beta(2,1,size=dim)*np.eye(dim)  #+ 40*np.eye(dim) + 40*waterfall\n",
    "    return A\n",
    "\n",
    "def generateCovMatrix(dim, M, scale, reg):\n",
    "    noise_cov = scale*stats.invwishart(scale=100*np.eye(3), df=100).rvs()\n",
    "    return noise_cov"
   ]
  },
  {
   "cell_type": "code",
   "execution_count": 8,
   "metadata": {
    "collapsed": true
   },
   "outputs": [],
   "source": [
    "def run_experiment_ar(iter_number, data_choice=0, **kwargs):\n",
    "    \n",
    "    # set the starting parameters for each model and run the models\n",
    "    starting_params = {}\n",
    "    starting_params['pi']    = np.random.dirichlet(alpha=np.ones(L), size=L)\n",
    "    starting_params['R']     = kwargs['R'] if 'R' in kwargs else 1e-1*np.eye(D)\n",
    "    starting_params['R0']    = kwargs['R0'] if 'R0' in kwargs else 1e-1*np.eye(D)\n",
    "    starting_params['r0']    = kwargs['r0'] if 'r0' in kwargs else 1e2\n",
    "    starting_params['C']     = kwargs['C'] if 'C' in kwargs else np.eye(D)\n",
    "    starting_params['D']     = len(Y[0])\n",
    "    starting_params['theta'] = [{'A': np.array(np.eye(D)), 'sigma': 1*np.eye(D)} for i in range(L)]\n",
    "    starting_params['L']     = 10\n",
    "    starting_params['Y']     = Y\n",
    "    starting_params['T']     = len(Y)\n",
    "    starting_params['alpha'] = kwargs['alpha'] if 'alpha' in kwargs else 1\n",
    "    starting_params['beta']  = np.random.dirichlet(np.ones(params['L']))\n",
    "    starting_params['kappa'] = kwargs['kappa'] if 'kappa' in kwargs else len(Y)/20\n",
    "    starting_params['gamma'] = kwargs['gamma'] if 'gamma' in kwargs else 1\n",
    "    \n",
    "    chain_params = [{\"A\": generateTransitionMatrix(dim), \"sigma\": generateCovMatrix(3, np.zeros(shape=(dim, dim)),1 ,5)}, \n",
    "                    {\"A\": generateTransitionMatrix(dim), \"sigma\": generateCovMatrix(3, np.zeros(shape=(dim, dim)),2 ,5)}, \n",
    "                    {\"A\": generateTransitionMatrix(dim), \"sigma\": generateCovMatrix(3, np.zeros(shape=(dim, dim)),5 ,5)}]\n",
    "\n",
    "    \n",
    "    ####################################################################\n",
    "    # generate the data\n",
    "    ####################################################################\n",
    "    if data_choice == 0:\n",
    "        res = gen.generate_data_nD(dim=3,\n",
    "                                   num_chains=len(chain_params),\n",
    "                                   length=kwargs['chain_length'] if 'chain_length' in kwargs else 1000,\n",
    "                                   switch_prob=0.02,\n",
    "                                   chain_params=chain_params)\n",
    "        chains, Y = res['chains'], res['Y']\n",
    "        \n",
    "    elif data_choice == 1:\n",
    "        chain_params = [{\"A\": [0.4, 0.4], \"sigma\": 1}, {\"A\": [0.7, 0.1], \"sigma\": 2}, {\"A\": [0.1, 0.7], \"sigma\": 4}]\n",
    "        res = gen.generate_data_1D(num_chains=len(chain_params),\n",
    "                                   length=kwargs['chain_length'] if 'chain_length' in kwargs else 1001,\n",
    "                                   switch_prob=0.02,\n",
    "                                   chain_params=chain_params,\n",
    "                                   ar=2)\n",
    "        chains, Y = res['chains'][1:], res['Y'][1:,0]\n",
    "        \n",
    "    elif data_choice == 2:\n",
    "        chain_params = [{\"A\": generateTransitionMatrix(dim), \"sigma\": generateCovMatrix(3, np.zeros(shape=(dim, dim)), 4, 1)}, \n",
    "                        {\"A\": generateTransitionMatrix(dim), \"sigma\": generateCovMatrix(3, np.zeros(shape=(dim, dim)), 2, 1)}, \n",
    "                        {\"A\": generateTransitionMatrix(dim), \"sigma\": generateCovMatrix(3, np.zeros(shape=(dim, dim)), 1, 1)}]\n",
    "\n",
    "        R = generateCovMatrix(dim, 0, .5, 1)\n",
    "        res = gen.generate_data_slsd(dim=3,\n",
    "                                     R=R,\n",
    "                                     num_chains=len(chain_params),\n",
    "                                     length=kwargs['chain_length'] if 'chain_length' in kwargs else 1000,\n",
    "                                     switch_prob=0.02,\n",
    "                                     chain_params=chain_params)\n",
    "        chains, Y = res['chains'], res['Y']\n",
    "\n",
    "    ####################################################################\n",
    "    # run the models\n",
    "    ####################################################################\n",
    "    if ('exec_model' not in kwargs) or (('exec_model') in kwargs and 0 in kwargs['exec_model']):\n",
    "    \n",
    "        # run the AR1 model\n",
    "        starting_params['priors'] = {\n",
    "            'M': np.zeros(shape=(D,D), dtype=np.float64),\n",
    "            'K': 10*np.eye(D, dtype=np.float64)\n",
    "        }\n",
    "\n",
    "        _, res, assignments_ar1, hamming_ar1 = hdp.sticky_Multi_HDP_AR(Y, copy.deepcopy(starting_params),\n",
    "                                                 priors=[1*np.eye(D), D],\n",
    "                                                 num_iter=kwargs['num_iter'] if 'num_iter' in kwargs else 5000,\n",
    "                                                 return_assignments=True,\n",
    "                                                 verbose=True,\n",
    "                                                 chains=chains)\n",
    "        print()\n",
    "        print(\"********************************************************\")\n",
    "        print(\"******************DONE WITH AR(1)***********************\")\n",
    "        print(\"********************************************************\")\n",
    "        print()\n",
    "        \n",
    "    if ('exec_model' not in kwargs) or (('exec_model') in kwargs and 1 in kwargs['exec_model']):\n",
    "        \n",
    "        starting_params['priors'] = {\n",
    "            # need to adjust the priors slightly\n",
    "            'M': np.zeros(shape=(D,D*2), dtype=np.float64),\n",
    "            'K': 10*np.eye(D*2, dtype=np.float64)\n",
    "        }\n",
    "\n",
    "        _, res, assignments_ar2, hamming_ar2 = hdp.sticky_Multi_HDP_AR2(Y, copy.deepcopy(starting_params),\n",
    "                                                 priors=[1*np.eye(D), D],\n",
    "                                                 num_iter=kwargs['num_iter'] if 'num_iter' in kwargs else 5000,\n",
    "                                                 return_assignments=True,\n",
    "                                                 verbose=True,\n",
    "                                                 chains=chains)\n",
    "    \n",
    "        print()\n",
    "        print(\"********************************************************\")\n",
    "        print(\"******************DONE WITH AR(2)***********************\")\n",
    "        print(\"********************************************************\")\n",
    "        print()\n",
    "        \n",
    "    if ('exec_model' not in kwargs) or (('exec_model') in kwargs and 2 in kwargs['exec_model']):\n",
    "        \n",
    "        if data_choice == 1:\n",
    "            starting_params['C'] = np.array([1,0], dtype=np.float64)\n",
    "            starting_params['priors'] = {\n",
    "                'M': np.zeros(shape=(D,D), dtype=np.float64),\n",
    "                'K': 10*np.eye(D, dtype=np.float64),\n",
    "            }\n",
    "        else:    \n",
    "            starting_params['priors'] = {\n",
    "                'M': np.zeros(shape=(D,D)),\n",
    "                'K': 10*np.eye(D)\n",
    "            }\n",
    "\n",
    "        _, z, assignments_slds, hamming_slds = hdp.SLDS_blocked_sampler(Y, copy.deepcopy(starting_params),\n",
    "                                                  priors=[1*np.eye(D), D],\n",
    "                                                  num_iter=kwargs['num_iter'] if 'num_iter' in kwargs else 5000,\n",
    "                                                  verbose=True,\n",
    "                                                  return_assignments=True,\n",
    "                                                  chains=chains)\n",
    "        print()\n",
    "        print(\"********************************************************\")\n",
    "        print(\"******************DONE WITH SLDS************************\")\n",
    "        print(\"********************************************************\")\n",
    "        print()\n",
    "    \n",
    "    print()\n",
    "    print(\"********************************************************\")\n",
    "    print(\"******************DONE ITER: {}, Data #: {}*************\".format(iter_number, data_choice))\n",
    "    print(\"********************************************************\")\n",
    "    print()\n",
    "    \n",
    "    return {\n",
    "        'data_choice': data_choice,\n",
    "        'iter_number': iter_number,\n",
    "        'hamming_ar1': hamming_ar1,\n",
    "        'hamming_ar2': hamming_ar2,\n",
    "        'hamming_slds': hamming_slds\n",
    "    }"
   ]
  },
  {
   "cell_type": "code",
   "execution_count": 15,
   "metadata": {
    "collapsed": false
   },
   "outputs": [
    {
     "data": {
      "text/plain": [
       "'0,1,2,3,4,5,6,7,8,9,10,11,12,13,14,15'"
      ]
     },
     "execution_count": 15,
     "metadata": {},
     "output_type": "execute_result"
    }
   ],
   "source": [
    "','.join(map(str, np.arange(0,16)))"
   ]
  },
  {
   "cell_type": "code",
   "execution_count": 66,
   "metadata": {
    "collapsed": false
   },
   "outputs": [],
   "source": [
    "def test(iter_number, data_choice=0, **kwargs):\n",
    "    return {\n",
    "        'data_choice': data_choice,\n",
    "        'iter_number': iter_number,\n",
    "        'hamming_ar1': 1*np.ones(10),\n",
    "        'hamming_ar2': 2*np.ones(10),\n",
    "        'hamming_slds': 3*np.ones(10)\n",
    "    }"
   ]
  },
  {
   "cell_type": "code",
   "execution_count": 69,
   "metadata": {
    "collapsed": true
   },
   "outputs": [],
   "source": [
    "def run_multi_process(outfile, numprocs=4, epochs=100, **kwargs):\n",
    "    \n",
    "    pool = Pool(numprocs)\n",
    "    \n",
    "    results = []\n",
    "    \n",
    "    for i in range(epochs):\n",
    "        results.append(pool.apply_async(test, args=(i, 0,), kwds=kwargs))\n",
    "        results.append(pool.apply_async(test, args=(i, 1,), kwds=kwargs))\n",
    "        results.append(pool.apply_async(test, args=(i, 2,), kwds=kwargs))\n",
    "        \n",
    "    if not os.path.isfile(outfile):\n",
    "        with open(outfile, 'w') as out_f:\n",
    "            out_f.write('data,iteration_number,algorithm\\n')\n",
    "            \n",
    "    with open('/Users/nickhoernle/Desktop/test.csv', 'a') as out_f:\n",
    "        for result in results:\n",
    "            res = result.get()\n",
    "            out_f.write('{data},{iter_no},\"AR1\",'.format(data=res['data_choice'], iter_no=res['iter_number']) + ','.join(map(str, res['hamming_ar1'])) + '\\n')\n",
    "            out_f.write('{data},{iter_no},\"AR2\",'.format(data=res['data_choice'], iter_no=res['iter_number']) + ','.join(map(str, res['hamming_ar2'])) + '\\n')\n",
    "            out_f.write('{data},{iter_no},\"SLDS\",'.format(data=res['data_choice'], iter_no=res['iter_number']) + ','.join(map(str, res['hamming_slds'])) + '\\n')\n"
   ]
  },
  {
   "cell_type": "code",
   "execution_count": 70,
   "metadata": {
    "collapsed": true
   },
   "outputs": [],
   "source": [
    "kwargs = {\n",
    "    'chain_length': 50,\n",
    "    'num_iter': 20\n",
    "}\n",
    "run_multi_process('/Users/nickhoernle/Desktop/test.csv', **kwargs)"
   ]
  },
  {
   "cell_type": "code",
   "execution_count": 79,
   "metadata": {
    "collapsed": false
   },
   "outputs": [],
   "source": [
    "A_ = np.arange(0,18).reshape(3,-6).T.reshape(-1,)"
   ]
  },
  {
   "cell_type": "code",
   "execution_count": 82,
   "metadata": {
    "collapsed": false
   },
   "outputs": [
    {
     "data": {
      "text/plain": [
       "array([[[ 0.,  1.,  2.],\n",
       "        [ 6.,  7.,  8.],\n",
       "        [12., 13., 14.]],\n",
       "\n",
       "       [[ 3.,  4.,  5.],\n",
       "        [ 9., 10., 11.],\n",
       "        [15., 16., 17.]]])"
      ]
     },
     "execution_count": 82,
     "metadata": {},
     "output_type": "execute_result"
    }
   ],
   "source": [
    "A = np.array([a.T for a in A_.reshape(2, 3, -3)], dtype=np.float64)\n",
    "A"
   ]
  },
  {
   "cell_type": "code",
   "execution_count": 7,
   "metadata": {
    "collapsed": false
   },
   "outputs": [
    {
     "data": {
      "text/plain": [
       "1.0"
      ]
     },
     "execution_count": 7,
     "metadata": {},
     "output_type": "execute_result"
    }
   ],
   "source": [
    "np.exp(0)"
   ]
  }
 ],
 "metadata": {
  "kernelspec": {
   "display_name": "Python 3",
   "language": "python",
   "name": "python3"
  },
  "language_info": {
   "codemirror_mode": {
    "name": "ipython",
    "version": 3
   },
   "file_extension": ".py",
   "mimetype": "text/x-python",
   "name": "python",
   "nbconvert_exporter": "python",
   "pygments_lexer": "ipython3",
   "version": "3.5.2"
  }
 },
 "nbformat": 4,
 "nbformat_minor": 1
}
